{
 "cells": [
  {
   "cell_type": "markdown",
   "id": "2d040c50",
   "metadata": {},
   "source": [
    "# Завдання 1\n",
    "\n",
    "**Перевести власну дату народження у двійкову систему і визначити, скільки вона займає місця в памʼяті компʼютера.**"
   ]
  },
  {
   "cell_type": "code",
   "execution_count": 25,
   "id": "1a608be4",
   "metadata": {},
   "outputs": [],
   "source": [
    "def task1(n):\n",
    "    bin_value = \"\"\n",
    "    explanation = \"\"\n",
    "\n",
    "    while n > 0:\n",
    "        quotient = n // 2\n",
    "        remainder = n % 2\n",
    "        explanation += f\"{n} розділити на 2 дає нам {quotient} і остачу {remainder}.\\n\"\n",
    "        bin_value = str(remainder) + bin_value\n",
    "        n = quotient\n",
    "\n",
    "    binary_format = format(int(bin_value, 2), 'b')\n",
    "    memory_size = len(bin_value) \n",
    "    return f\"{explanation}Двійковий формат: {binary_format}\\n Памʼять в бітах: {memory_size}\""
   ]
  },
  {
   "cell_type": "code",
   "execution_count": 26,
   "id": "93f0a9c0",
   "metadata": {},
   "outputs": [
    {
     "name": "stdout",
     "output_type": "stream",
     "text": [
      "23062004 розділити на 2 дає нам 11531002 і остачу 0.\n",
      "11531002 розділити на 2 дає нам 5765501 і остачу 0.\n",
      "5765501 розділити на 2 дає нам 2882750 і остачу 1.\n",
      "2882750 розділити на 2 дає нам 1441375 і остачу 0.\n",
      "1441375 розділити на 2 дає нам 720687 і остачу 1.\n",
      "720687 розділити на 2 дає нам 360343 і остачу 1.\n",
      "360343 розділити на 2 дає нам 180171 і остачу 1.\n",
      "180171 розділити на 2 дає нам 90085 і остачу 1.\n",
      "90085 розділити на 2 дає нам 45042 і остачу 1.\n",
      "45042 розділити на 2 дає нам 22521 і остачу 0.\n",
      "22521 розділити на 2 дає нам 11260 і остачу 1.\n",
      "11260 розділити на 2 дає нам 5630 і остачу 0.\n",
      "5630 розділити на 2 дає нам 2815 і остачу 0.\n",
      "2815 розділити на 2 дає нам 1407 і остачу 1.\n",
      "1407 розділити на 2 дає нам 703 і остачу 1.\n",
      "703 розділити на 2 дає нам 351 і остачу 1.\n",
      "351 розділити на 2 дає нам 175 і остачу 1.\n",
      "175 розділити на 2 дає нам 87 і остачу 1.\n",
      "87 розділити на 2 дає нам 43 і остачу 1.\n",
      "43 розділити на 2 дає нам 21 і остачу 1.\n",
      "21 розділити на 2 дає нам 10 і остачу 1.\n",
      "10 розділити на 2 дає нам 5 і остачу 0.\n",
      "5 розділити на 2 дає нам 2 і остачу 1.\n",
      "2 розділити на 2 дає нам 1 і остачу 0.\n",
      "1 розділити на 2 дає нам 0 і остачу 1.\n",
      "Двійковий формат: 1010111111110010111110100\n",
      " Памʼять в бітах: 25\n"
     ]
    }
   ],
   "source": [
    "my_birthdate = 23062004\n",
    "print(task1(my_birthdate))"
   ]
  },
  {
   "cell_type": "markdown",
   "id": "92c78955",
   "metadata": {},
   "source": [
    "### Перевірка"
   ]
  },
  {
   "cell_type": "markdown",
   "id": "d6b3ac85",
   "metadata": {},
   "source": [
    "![Alt text](check_task1.png)"
   ]
  },
  {
   "cell_type": "markdown",
   "id": "d3cdc1ad",
   "metadata": {},
   "source": [
    "#### Коментар:\n",
    "Я написав функцію, що детально описує перевід числа з десяткової до двійкової системи числення та перевірив правильність її виконання на калькуляторі, вона працює правильно. Також я порахував кількість бітів, що займає це число, але на компʼютері все в байтах, тому треба розділити це число на 8 і окгруглити вверх. 25 бітів -> 4 байти."
   ]
  },
  {
   "cell_type": "markdown",
   "id": "e82f63dc",
   "metadata": {},
   "source": [
    "# Завдання 2\n",
    "\n",
    "**Розділити дату народження на 2 і додати до неї порядковий номер у сазі, розділений на 100. Результат перевести у двійкову систему числення.**"
   ]
  },
  {
   "cell_type": "code",
   "execution_count": 31,
   "id": "c06cb2bd",
   "metadata": {},
   "outputs": [],
   "source": [
    "def task2(number):\n",
    "    int_part = int(number)\n",
    "    dec_part = number - int_part\n",
    "    int_part_bin = bin(int_part)[2:]\n",
    "\n",
    "    dec_bin = \"\"\n",
    "    for _ in range(10):\n",
    "        dec_part *= 2\n",
    "        bit = int(dec_part)\n",
    "        dec_bin += str(bit)\n",
    "        dec_part -= bit\n",
    "\n",
    "    return f\"Двійкова форма цілої частини: {int_part_bin}\\nДвійкова форма десяткової частини: {dec_bin}\""
   ]
  },
  {
   "cell_type": "code",
   "execution_count": 32,
   "id": "a8ddf69e",
   "metadata": {},
   "outputs": [
    {
     "name": "stdout",
     "output_type": "stream",
     "text": [
      "Двійкова форма цілої частини: 1000110011000010011000\n",
      "Двійкова форма десяткової частини: 1000010100\n"
     ]
    }
   ],
   "source": [
    "list_number = 12\n",
    "\n",
    "test_number = my_birthdate/10 + list_number/100\n",
    "print(task2(test_number))"
   ]
  },
  {
   "cell_type": "markdown",
   "id": "f3e6c4b1",
   "metadata": {},
   "source": [
    "**Тобто відповідь: 1000110011000010011000.1000010100**"
   ]
  },
  {
   "cell_type": "markdown",
   "id": "297db119",
   "metadata": {},
   "source": [
    "### Перевірка"
   ]
  },
  {
   "cell_type": "markdown",
   "id": "73ea1ee7",
   "metadata": {},
   "source": [
    "![Alt text](check_task2.png)"
   ]
  },
  {
   "cell_type": "markdown",
   "id": "580d1dd6",
   "metadata": {},
   "source": [
    "#### Коментар:\n",
    "Тут я вже не обчислював детально перевід цілого числа в двійкову систему числення, бо це було зроблено в минулій вправі. Тут я зосередився на переводі десяткової частини числа і, судячи з результатів калькулятора, отримав правильні відповіді."
   ]
  },
  {
   "cell_type": "markdown",
   "id": "df2b9b25",
   "metadata": {},
   "source": [
    "# Завдання 3"
   ]
  },
  {
   "cell_type": "markdown",
   "id": "10fbae93",
   "metadata": {},
   "source": [
    "![Alt text](task3.png)"
   ]
  },
  {
   "cell_type": "code",
   "execution_count": 33,
   "id": "d56c39e7",
   "metadata": {},
   "outputs": [
    {
     "name": "stdout",
     "output_type": "stream",
     "text": [
      "Shannon's entropy: 2.1885859874068854\n"
     ]
    }
   ],
   "source": [
    "import math\n",
    "\n",
    "probs = [0.5, 0.4, 0.19, 0.12, 0.04, 0.03]\n",
    "def calc_entropy(probs):\n",
    "    return -sum(i * math.log2(i) for i in probs)\n",
    "    \n",
    "\n",
    "print(\"Shannon's entropy:\", calc_entropy(probs))"
   ]
  },
  {
   "cell_type": "markdown",
   "id": "a2467201",
   "metadata": {},
   "source": [
    "![Alt text](check_task3.png)"
   ]
  },
  {
   "cell_type": "markdown",
   "id": "a7b45c3f",
   "metadata": {},
   "source": [
    "#### Коментар:\n",
    "Використавши формулу Шеннона я порахував ентропію і мої результати зійшлись з результатами калькулятора."
   ]
  }
 ],
 "metadata": {
  "kernelspec": {
   "display_name": "Python 3 (ipykernel)",
   "language": "python",
   "name": "python3"
  },
  "language_info": {
   "codemirror_mode": {
    "name": "ipython",
    "version": 3
   },
   "file_extension": ".py",
   "mimetype": "text/x-python",
   "name": "python",
   "nbconvert_exporter": "python",
   "pygments_lexer": "ipython3",
   "version": "3.9.12"
  }
 },
 "nbformat": 4,
 "nbformat_minor": 5
}
